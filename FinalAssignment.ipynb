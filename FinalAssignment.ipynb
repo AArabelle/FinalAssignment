{
 "cells": [
  {
   "cell_type": "markdown",
   "id": "b5c468d2-537e-4285-bbbf-ef5d4fb981ea",
   "metadata": {},
   "source": [
    "# My Jupyter Notebook on IBM Watson Studio"
   ]
  },
  {
   "cell_type": "markdown",
   "id": "19d66f07-3d80-425d-8be4-d678a55420ae",
   "metadata": {},
   "source": [
    "**Sarah Geronimo**\n",
    "Data Scientist"
   ]
  },
  {
   "cell_type": "markdown",
   "id": "dfccd6e0-471e-4df5-9d03-a12c1e5e27e4",
   "metadata": {},
   "source": [
    "*I am interested in data science because I enjoy the process of organizing and analyzing problems  and finding solutions for them.*"
   ]
  },
  {
   "cell_type": "markdown",
   "id": "48192743-9dbf-4901-ae64-5450a83b6799",
   "metadata": {},
   "source": [
    "### Multiply 12 by 4"
   ]
  },
  {
   "cell_type": "code",
   "execution_count": 2,
   "id": "5d54dea0-d654-4b25-bc8e-96560639fccd",
   "metadata": {},
   "outputs": [
    {
     "data": {
      "text/plain": [
       "48"
      ]
     },
     "execution_count": 2,
     "metadata": {},
     "output_type": "execute_result"
    }
   ],
   "source": [
    "12*4"
   ]
  },
  {
   "cell_type": "markdown",
   "id": "e68b4f85-a699-41db-a390-d2a78f1a42d3",
   "metadata": {},
   "source": [
    "Below are the three programming languages I am planning to learn. I have already learned the first one.\n",
    "---\n",
    "1. ~~SQL~~\n",
    "2. Python\n",
    "3. R\n",
    "> SQL seems to be the easiest among the three."
   ]
  },
  {
   "cell_type": "code",
   "execution_count": null,
   "id": "47d1de5e-2374-4509-98af-f2c73e301f8f",
   "metadata": {},
   "outputs": [],
   "source": []
  }
 ],
 "metadata": {
  "kernelspec": {
   "display_name": "Python",
   "language": "python",
   "name": "conda-env-python-py"
  },
  "language_info": {
   "codemirror_mode": {
    "name": "ipython",
    "version": 3
   },
   "file_extension": ".py",
   "mimetype": "text/x-python",
   "name": "python",
   "nbconvert_exporter": "python",
   "pygments_lexer": "ipython3",
   "version": "3.7.12"
  }
 },
 "nbformat": 4,
 "nbformat_minor": 5
}
